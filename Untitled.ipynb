{
 "cells": [
  {
   "cell_type": "code",
   "execution_count": 3,
   "id": "dca4d0ca-fbb7-45ba-aa2f-585df6d6387c",
   "metadata": {},
   "outputs": [
    {
     "data": {
      "text/plain": [
       "('symptoms.csv', 'prognosis.csv')"
      ]
     },
     "execution_count": 3,
     "metadata": {},
     "output_type": "execute_result"
    }
   ],
   "source": [
    "import pandas as pd\n",
    "\n",
    "# Load the dataset\n",
    "file_path = 'cattle_diseases.csv'\n",
    "data = pd.read_csv(file_path)\n",
    "\n",
    "# Separate symptoms and prognosis\n",
    "symptoms = data.drop(columns=['prognosis'])\n",
    "prognosis = data['prognosis'].drop_duplicates()\n",
    "\n",
    "# Save the extracted data to separate files\n",
    "symptoms_file_path = 'symptoms.csv'\n",
    "prognosis_file_path = 'prognosis.csv'\n",
    "\n",
    "symptoms.to_csv(symptoms_file_path, index=False)\n",
    "prognosis.to_csv(prognosis_file_path, index=False)\n",
    "\n",
    "(symptoms_file_path, prognosis_file_path)\n",
    "\n"
   ]
  },
  {
   "cell_type": "code",
   "execution_count": null,
   "id": "3881c88b-4bda-4cf2-a417-9fd0187a44f8",
   "metadata": {},
   "outputs": [],
   "source": []
  }
 ],
 "metadata": {
  "kernelspec": {
   "display_name": "Python 3 (ipykernel)",
   "language": "python",
   "name": "python3"
  },
  "language_info": {
   "codemirror_mode": {
    "name": "ipython",
    "version": 3
   },
   "file_extension": ".py",
   "mimetype": "text/x-python",
   "name": "python",
   "nbconvert_exporter": "python",
   "pygments_lexer": "ipython3",
   "version": "3.11.8"
  }
 },
 "nbformat": 4,
 "nbformat_minor": 5
}
