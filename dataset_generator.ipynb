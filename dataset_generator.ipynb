{
 "cells": [
  {
   "cell_type": "code",
   "execution_count": 1,
   "id": "b74be737-9089-45f3-bf4a-6c24946423ca",
   "metadata": {},
   "outputs": [
    {
     "name": "stdout",
     "output_type": "stream",
     "text": [
      "   Swelling of Lymph Nodes  Cloudiness of Eyes  Difficult Breathing  Weakness  \\\n",
      "0                        0                   1                    1         1   \n",
      "1                        1                   1                    0         1   \n",
      "2                        1                   0                    1         0   \n",
      "3                        0                   0                    0         0   \n",
      "4                        1                   0                    0         1   \n",
      "5                        1                   1                    0         0   \n",
      "6                        1                   1                    1         1   \n",
      "7                        1                   1                    0         1   \n",
      "8                        1                   0                    1         0   \n",
      "9                        1                   0                    1         1   \n",
      "\n",
      "   Pale/Yellow Mucous Membranes  Depression  Not Eating  Weight Loss  \\\n",
      "0                             1           1           1            1   \n",
      "1                             1           1           1            0   \n",
      "2                             0           0           1            1   \n",
      "3                             0           1           0            0   \n",
      "4                             0           1           0            0   \n",
      "5                             1           1           0            0   \n",
      "6                             0           0           1            0   \n",
      "7                             0           1           0            0   \n",
      "8                             0           1           0            1   \n",
      "9                             1           1           1            1   \n",
      "\n",
      "   Abortion  Poor Milk Production  Collapse Diagnosis  \n",
      "0         1                     0         1  Positive  \n",
      "1         1                     1         0  Positive  \n",
      "2         1                     0         1  Positive  \n",
      "3         1                     0         1  Negative  \n",
      "4         1                     1         0  Positive  \n",
      "5         0                     0         1  Positive  \n",
      "6         1                     1         1  Positive  \n",
      "7         0                     1         0  Positive  \n",
      "8         0                     0         0  Positive  \n",
      "9         0                     1         1  Positive  \n"
     ]
    }
   ],
   "source": [
    "import pandas as pd\n",
    "import numpy as np\n",
    "\n",
    "# Generate synthetic data with 500 records\n",
    "np.random.seed(0)\n",
    "data = {\n",
    "    \"Swelling of Lymph Nodes\": np.random.choice([0, 1], size=500),\n",
    "    \"Cloudiness of Eyes\": np.random.choice([0, 1], size=500),\n",
    "    \"Difficult Breathing\": np.random.choice([0, 1], size=500),\n",
    "    \"Weakness\": np.random.choice([0, 1], size=500),\n",
    "    \"Pale/Yellow Mucous Membranes\": np.random.choice([0, 1], size=500),\n",
    "    \"Depression\": np.random.choice([0, 1], size=500),\n",
    "    \"Not Eating\": np.random.choice([0, 1], size=500),\n",
    "    \"Weight Loss\": np.random.choice([0, 1], size=500),\n",
    "    \"Abortion\": np.random.choice([0, 1], size=500),\n",
    "    \"Poor Milk Production\": np.random.choice([0, 1], size=500),\n",
    "    \"Collapse\": np.random.choice([0, 1], size=500)\n",
    "}\n",
    "\n",
    "# Create a DataFrame\n",
    "df_synthetic = pd.DataFrame(data)\n",
    "\n",
    "# Define a function to diagnose based on symptoms\n",
    "def diagnose(row):\n",
    "    indicative_symptoms = row[['Swelling of Lymph Nodes', 'Cloudiness of Eyes', 'Difficult Breathing', 'Pale/Yellow Mucous Membranes']].sum()\n",
    "    other_symptoms = row[['Weakness', 'Depression', 'Not Eating', 'Weight Loss', 'Abortion', 'Poor Milk Production', 'Collapse']].sum()\n",
    "    if indicative_symptoms >= 2 or (indicative_symptoms >= 1 and other_symptoms >= 3):\n",
    "        return \"Positive\"\n",
    "    else:\n",
    "        return \"Negative\"\n",
    "\n",
    "# Apply the diagnosis function to each row\n",
    "df_synthetic['Diagnosis'] = df_synthetic.apply(diagnose, axis=1)\n",
    "\n",
    "# Save the DataFrame to a CSV file\n",
    "csv_file_path_synthetic = \"theileriosis_synthetic_dataset_500.csv\"\n",
    "df_synthetic.to_csv(csv_file_path_synthetic, index=False)\n",
    "\n",
    "# Display the first 10 rows of the DataFrame\n",
    "print(df_synthetic.head(10))\n"
   ]
  },
  {
   "cell_type": "code",
   "execution_count": null,
   "id": "0d1807e5-90f3-484b-8995-b9d7a0fb9efe",
   "metadata": {},
   "outputs": [],
   "source": []
  }
 ],
 "metadata": {
  "kernelspec": {
   "display_name": "Python 3 (ipykernel)",
   "language": "python",
   "name": "python3"
  },
  "language_info": {
   "codemirror_mode": {
    "name": "ipython",
    "version": 3
   },
   "file_extension": ".py",
   "mimetype": "text/x-python",
   "name": "python",
   "nbconvert_exporter": "python",
   "pygments_lexer": "ipython3",
   "version": "3.11.8"
  }
 },
 "nbformat": 4,
 "nbformat_minor": 5
}
