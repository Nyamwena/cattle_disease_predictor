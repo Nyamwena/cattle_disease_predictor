{
 "cells": [
  {
   "cell_type": "code",
   "execution_count": 1,
   "id": "afa78a5a-61f1-418e-9a2a-d6bf30d78aed",
   "metadata": {},
   "outputs": [
    {
     "data": {
      "text/plain": [
       "'theileriosis_stages_dataset.csv'"
      ]
     },
     "execution_count": 1,
     "metadata": {},
     "output_type": "execute_result"
    }
   ],
   "source": [
    "import pandas as pd\n",
    "import numpy as np\n",
    "\n",
    "# Define the number of samples\n",
    "num_samples = 1000\n",
    "\n",
    "# Generate features based on typical clinical signs for each stage\n",
    "def generate_fever(stage):\n",
    "    if stage == 'Infection':\n",
    "        return np.round(np.random.uniform(37, 38), 1)\n",
    "    elif stage == 'Acute':\n",
    "        return np.round(np.random.uniform(39.5, 41), 1)\n",
    "    elif stage == 'Piroplasm':\n",
    "        return np.round(np.random.uniform(38, 39), 1)\n",
    "    elif stage == 'Chronic':\n",
    "        return np.round(np.random.uniform(38, 39.5), 1)\n",
    "\n",
    "def generate_lymph_node_swelling(stage):\n",
    "    if stage in ['Infection', 'Piroplasm']:\n",
    "        return 'No'\n",
    "    else:\n",
    "        return 'Yes'\n",
    "\n",
    "def generate_appetite_loss(stage):\n",
    "    if stage == 'Infection':\n",
    "        return 'No'\n",
    "    else:\n",
    "        return 'Yes'\n",
    "\n",
    "def generate_lethargy(stage):\n",
    "    if stage == 'Infection':\n",
    "        return 'No'\n",
    "    else:\n",
    "        return 'Yes'\n",
    "\n",
    "def generate_respiratory_signs(stage):\n",
    "    if stage == 'Infection':\n",
    "        return 'None'\n",
    "    elif stage == 'Acute':\n",
    "        return np.random.choice(['Moderate', 'Severe'])\n",
    "    elif stage == 'Piroplasm':\n",
    "        return 'None'\n",
    "    elif stage == 'Chronic':\n",
    "        return np.random.choice(['Mild', 'Moderate'])\n",
    "\n",
    "def generate_anemia(stage):\n",
    "    if stage in ['Infection', 'Acute']:\n",
    "        return 'No'\n",
    "    else:\n",
    "        return 'Yes'\n",
    "\n",
    "def generate_jaundice(stage):\n",
    "    if stage in ['Infection', 'Piroplasm']:\n",
    "        return 'No'\n",
    "    else:\n",
    "        return 'Yes'\n",
    "\n",
    "def generate_weight_loss(stage):\n",
    "    if stage == 'Infection':\n",
    "        return 'No'\n",
    "    else:\n",
    "        return 'Yes'\n",
    "\n",
    "def generate_reproductive_issues(stage):\n",
    "    if stage == 'Infection':\n",
    "        return 'No'\n",
    "    elif stage == 'Acute':\n",
    "        return np.random.choice(['Yes', 'No'])\n",
    "    elif stage == 'Piroplasm':\n",
    "        return 'No'\n",
    "    elif stage == 'Chronic':\n",
    "        return 'Yes'\n",
    "\n",
    "# Define the stages\n",
    "stages = ['Infection', 'Acute', 'Piroplasm', 'Chronic']\n",
    "\n",
    "# Generate the dataset\n",
    "data = []\n",
    "for i in range(1, num_samples + 1):\n",
    "    stage = np.random.choice(stages)\n",
    "    data.append([\n",
    "        i,\n",
    "        generate_fever(stage),\n",
    "        generate_lymph_node_swelling(stage),\n",
    "        generate_appetite_loss(stage),\n",
    "        generate_lethargy(stage),\n",
    "        generate_respiratory_signs(stage),\n",
    "        generate_anemia(stage),\n",
    "        generate_jaundice(stage),\n",
    "        generate_weight_loss(stage),\n",
    "        generate_reproductive_issues(stage),\n",
    "        stage\n",
    "    ])\n",
    "\n",
    "# Create the DataFrame\n",
    "columns = ['Cow_ID', 'Fever', 'Lymph_Node_Swelling', 'Appetite_Loss', 'Lethargy', 'Respiratory_Signs', 'Anemia', 'Jaundice', 'Weight_Loss', 'Reproductive_Issues', 'Stage']\n",
    "df = pd.DataFrame(data, columns=columns)\n",
    "\n",
    "# Save the generated dataset to a CSV file\n",
    "file_path = 'theileriosis_stages_dataset.csv'\n",
    "df.to_csv(file_path, index=False)\n",
    "\n",
    "file_path\n"
   ]
  },
  {
   "cell_type": "code",
   "execution_count": 3,
   "id": "d37696fe-2189-470b-b9a0-07650963f277",
   "metadata": {},
   "outputs": [],
   "source": [
    "import pandas as pd\n",
    "\n",
    "# Load the dataset\n",
    "file_path = 'theileriosis_stages_dataset.csv'\n",
    "df = pd.read_csv(file_path)\n",
    "from sklearn.model_selection import train_test_split\n",
    "from sklearn.preprocessing import LabelEncoder\n",
    "\n",
    "# Encode categorical features\n",
    "label_encoders = {}\n",
    "for column in df.columns:\n",
    "    if df[column].dtype == object and column != 'Stage':\n",
    "        le = LabelEncoder()\n",
    "        df[column] = le.fit_transform(df[column])\n",
    "        label_encoders[column] = le\n",
    "\n",
    "# Encode the target variable\n",
    "le_stage = LabelEncoder()\n",
    "df['Stage'] = le_stage.fit_transform(df['Stage'])\n",
    "\n",
    "# Split the dataset into features and target variable\n",
    "X = df.drop(columns=['Stage', 'Cow_ID'])\n",
    "y = df['Stage']\n",
    "\n",
    "# Split the dataset into training and testing sets\n",
    "X_train, X_test, y_train, y_test = train_test_split(X, y, test_size=0.2, random_state=42)\n"
   ]
  },
  {
   "cell_type": "code",
   "execution_count": 4,
   "id": "ea294b39-9d18-48fa-b36f-aafe0c72e0e9",
   "metadata": {},
   "outputs": [
    {
     "name": "stdout",
     "output_type": "stream",
     "text": [
      "Model accuracy: 1.0\n"
     ]
    }
   ],
   "source": [
    "from sklearn.ensemble import RandomForestClassifier\n",
    "from sklearn.metrics import accuracy_score\n",
    "\n",
    "# Train the model\n",
    "model = RandomForestClassifier(n_estimators=100, random_state=42)\n",
    "model.fit(X_train, y_train)\n",
    "\n",
    "# Evaluate the model\n",
    "y_pred = model.predict(X_test)\n",
    "accuracy = accuracy_score(y_test, y_pred)\n",
    "print(f'Model accuracy: {accuracy}')\n"
   ]
  },
  {
   "cell_type": "code",
   "execution_count": 6,
   "id": "aa64fa2d-5ddb-4d5c-a019-77ff62b817f2",
   "metadata": {},
   "outputs": [
    {
     "data": {
      "text/plain": [
       "('theileriosis_stage_model.joblib',\n",
       " 'label_encoders.joblib',\n",
       " 'stage_encoder.joblib')"
      ]
     },
     "execution_count": 6,
     "metadata": {},
     "output_type": "execute_result"
    }
   ],
   "source": [
    "import joblib\n",
    "\n",
    "\n",
    "# model_path = 'theileriosis_stage_model.pkl'\n",
    "# joblib.dump(model, model_path)\n",
    "# Save the trained model\n",
    "model_path = 'theileriosis_stage_model.joblib'\n",
    "joblib.dump(model, model_path)\n",
    "\n",
    "# Save the LabelEncoders\n",
    "encoders_path = 'label_encoders.joblib'\n",
    "joblib.dump(label_encoders, encoders_path)\n",
    "\n",
    "# Save the Stage LabelEncoder\n",
    "stage_encoder_path = 'stage_encoder.joblib'\n",
    "joblib.dump(le_stage, stage_encoder_path)\n",
    "\n",
    "model_path, encoders_path, stage_encoder_path\n"
   ]
  },
  {
   "cell_type": "code",
   "execution_count": null,
   "id": "b99a8a54-f7dd-42da-95a7-f7d7a4fd4cac",
   "metadata": {},
   "outputs": [],
   "source": []
  }
 ],
 "metadata": {
  "kernelspec": {
   "display_name": "Python 3 (ipykernel)",
   "language": "python",
   "name": "python3"
  },
  "language_info": {
   "codemirror_mode": {
    "name": "ipython",
    "version": 3
   },
   "file_extension": ".py",
   "mimetype": "text/x-python",
   "name": "python",
   "nbconvert_exporter": "python",
   "pygments_lexer": "ipython3",
   "version": "3.11.8"
  }
 },
 "nbformat": 4,
 "nbformat_minor": 5
}
